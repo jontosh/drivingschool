{
 "cells": [
  {
   "cell_type": "code",
   "execution_count": 1,
   "metadata": {
    "collapsed": true,
    "ExecuteTime": {
     "start_time": "2024-05-04T14:45:24.534863Z",
     "end_time": "2024-05-04T14:45:25.642697Z"
    }
   },
   "outputs": [],
   "source": [
    "import pandas as pd"
   ]
  },
  {
   "cell_type": "code",
   "execution_count": 4,
   "outputs": [
    {
     "data": {
      "text/plain": "  First Name  Last Name Middle Name Assign To Location Assign to Staff  \\\n0      Aaron  Ruehrwein       Jacob                NaN     Zade,Khalil   \n1      Aaron       Sova         NaN                NaN             NaN   \n2       Abhi      Patel        Amit                NaN     Zade,Khalil   \n3   Adrianah    Hartman         NaN                NaN     Zade,Khalil   \n4      Aiden    Sanders         NaN                NaN     Zade,Khalil   \n\n  Date of Birth  Emergency Phone  Emergency Phone1  Emergency Relationship  \\\n0    2008-05-19              NaN               NaN                     NaN   \n1    2008-06-30              NaN               NaN                     NaN   \n2    2007-11-27              NaN               NaN                     NaN   \n3    2008-03-05              NaN               NaN                     NaN   \n4    2007-11-12              NaN               NaN                     NaN   \n\n   Gender  ...                                           Billing1  \\\n0    Male  ...  Amount paid: $649.99, Payment Method: Cash, Co...   \n1    Male  ...                                                NaN   \n2    Male  ...  Amount paid: $649.99, Payment Method: Cash, Co...   \n3  Female  ...  Amount paid: $649.99, Payment Method: Check/Mo...   \n4    Male  ...  Amount paid: $649.99, Payment Method: CC, Coll...   \n\n                                            Billing2 Billing3 Billing4  \\\n0                                                NaN      NaN      NaN   \n1                                                NaN      NaN      NaN   \n2                                                NaN      NaN      NaN   \n3                                                NaN      NaN      NaN   \n4  Amount paid: $75.00, Payment Method: CC, Colle...      NaN      NaN   \n\n  Billing5  Billing6 Billing7 Billing8 Billing9 Billing10  \n0      NaN       NaN      NaN      NaN      NaN       NaN  \n1      NaN       NaN      NaN      NaN      NaN       NaN  \n2      NaN       NaN      NaN      NaN      NaN       NaN  \n3      NaN       NaN      NaN      NaN      NaN       NaN  \n4      NaN       NaN      NaN      NaN      NaN       NaN  \n\n[5 rows x 77 columns]",
      "text/html": "<div>\n<style scoped>\n    .dataframe tbody tr th:only-of-type {\n        vertical-align: middle;\n    }\n\n    .dataframe tbody tr th {\n        vertical-align: top;\n    }\n\n    .dataframe thead th {\n        text-align: right;\n    }\n</style>\n<table border=\"1\" class=\"dataframe\">\n  <thead>\n    <tr style=\"text-align: right;\">\n      <th></th>\n      <th>First Name</th>\n      <th>Last Name</th>\n      <th>Middle Name</th>\n      <th>Assign To Location</th>\n      <th>Assign to Staff</th>\n      <th>Date of Birth</th>\n      <th>Emergency Phone</th>\n      <th>Emergency Phone1</th>\n      <th>Emergency Relationship</th>\n      <th>Gender</th>\n      <th>...</th>\n      <th>Billing1</th>\n      <th>Billing2</th>\n      <th>Billing3</th>\n      <th>Billing4</th>\n      <th>Billing5</th>\n      <th>Billing6</th>\n      <th>Billing7</th>\n      <th>Billing8</th>\n      <th>Billing9</th>\n      <th>Billing10</th>\n    </tr>\n  </thead>\n  <tbody>\n    <tr>\n      <th>0</th>\n      <td>Aaron</td>\n      <td>Ruehrwein</td>\n      <td>Jacob</td>\n      <td>NaN</td>\n      <td>Zade,Khalil</td>\n      <td>2008-05-19</td>\n      <td>NaN</td>\n      <td>NaN</td>\n      <td>NaN</td>\n      <td>Male</td>\n      <td>...</td>\n      <td>Amount paid: $649.99, Payment Method: Cash, Co...</td>\n      <td>NaN</td>\n      <td>NaN</td>\n      <td>NaN</td>\n      <td>NaN</td>\n      <td>NaN</td>\n      <td>NaN</td>\n      <td>NaN</td>\n      <td>NaN</td>\n      <td>NaN</td>\n    </tr>\n    <tr>\n      <th>1</th>\n      <td>Aaron</td>\n      <td>Sova</td>\n      <td>NaN</td>\n      <td>NaN</td>\n      <td>NaN</td>\n      <td>2008-06-30</td>\n      <td>NaN</td>\n      <td>NaN</td>\n      <td>NaN</td>\n      <td>Male</td>\n      <td>...</td>\n      <td>NaN</td>\n      <td>NaN</td>\n      <td>NaN</td>\n      <td>NaN</td>\n      <td>NaN</td>\n      <td>NaN</td>\n      <td>NaN</td>\n      <td>NaN</td>\n      <td>NaN</td>\n      <td>NaN</td>\n    </tr>\n    <tr>\n      <th>2</th>\n      <td>Abhi</td>\n      <td>Patel</td>\n      <td>Amit</td>\n      <td>NaN</td>\n      <td>Zade,Khalil</td>\n      <td>2007-11-27</td>\n      <td>NaN</td>\n      <td>NaN</td>\n      <td>NaN</td>\n      <td>Male</td>\n      <td>...</td>\n      <td>Amount paid: $649.99, Payment Method: Cash, Co...</td>\n      <td>NaN</td>\n      <td>NaN</td>\n      <td>NaN</td>\n      <td>NaN</td>\n      <td>NaN</td>\n      <td>NaN</td>\n      <td>NaN</td>\n      <td>NaN</td>\n      <td>NaN</td>\n    </tr>\n    <tr>\n      <th>3</th>\n      <td>Adrianah</td>\n      <td>Hartman</td>\n      <td>NaN</td>\n      <td>NaN</td>\n      <td>Zade,Khalil</td>\n      <td>2008-03-05</td>\n      <td>NaN</td>\n      <td>NaN</td>\n      <td>NaN</td>\n      <td>Female</td>\n      <td>...</td>\n      <td>Amount paid: $649.99, Payment Method: Check/Mo...</td>\n      <td>NaN</td>\n      <td>NaN</td>\n      <td>NaN</td>\n      <td>NaN</td>\n      <td>NaN</td>\n      <td>NaN</td>\n      <td>NaN</td>\n      <td>NaN</td>\n      <td>NaN</td>\n    </tr>\n    <tr>\n      <th>4</th>\n      <td>Aiden</td>\n      <td>Sanders</td>\n      <td>NaN</td>\n      <td>NaN</td>\n      <td>Zade,Khalil</td>\n      <td>2007-11-12</td>\n      <td>NaN</td>\n      <td>NaN</td>\n      <td>NaN</td>\n      <td>Male</td>\n      <td>...</td>\n      <td>Amount paid: $649.99, Payment Method: CC, Coll...</td>\n      <td>Amount paid: $75.00, Payment Method: CC, Colle...</td>\n      <td>NaN</td>\n      <td>NaN</td>\n      <td>NaN</td>\n      <td>NaN</td>\n      <td>NaN</td>\n      <td>NaN</td>\n      <td>NaN</td>\n      <td>NaN</td>\n    </tr>\n  </tbody>\n</table>\n<p>5 rows × 77 columns</p>\n</div>"
     },
     "execution_count": 4,
     "metadata": {},
     "output_type": "execute_result"
    }
   ],
   "source": [
    "data = pd.read_excel('StudentList638503123757892814_5351.xlsx')\n",
    "data.head()"
   ],
   "metadata": {
    "collapsed": false,
    "ExecuteTime": {
     "start_time": "2024-05-04T15:14:44.667146Z",
     "end_time": "2024-05-04T15:14:44.808705Z"
    }
   }
  },
  {
   "cell_type": "code",
   "execution_count": 1,
   "outputs": [
    {
     "name": "stdout",
     "output_type": "stream",
     "text": [
      "93856631-891f-473c-8f8a-2979f7c84a9b\n"
     ]
    }
   ],
   "source": [
    "import  uuid\n",
    "print(uuid.uuid4())"
   ],
   "metadata": {
    "collapsed": false,
    "ExecuteTime": {
     "start_time": "2024-05-09T16:29:30.757790Z",
     "end_time": "2024-05-09T16:29:30.773927Z"
    }
   }
  },
  {
   "cell_type": "code",
   "execution_count": null,
   "outputs": [],
   "source": [],
   "metadata": {
    "collapsed": false
   }
  },
  {
   "cell_type": "code",
   "execution_count": null,
   "outputs": [],
   "source": [],
   "metadata": {
    "collapsed": false
   }
  },
  {
   "cell_type": "code",
   "execution_count": null,
   "outputs": [],
   "source": [],
   "metadata": {
    "collapsed": false
   }
  },
  {
   "cell_type": "code",
   "execution_count": 14,
   "outputs": [],
   "source": [
    "for i in range(0,len(data)):\n",
    "    da = {\n",
    "    \"id\": None,\n",
    "    \"status\": None,\n",
    "    \"first_name\": data[\"First Name\"][i],\n",
    "    \"mid_name\": data[\"Middle Name\"][i],\n",
    "    \"last_name\": data[\"Last Name\"][i],\n",
    "    \"address\": data[\"Student Address\"][i],\n",
    "    \"city\": None,\n",
    "    \"state\": data[\"Student Address\"][i],\n",
    "    \"zip\": data[\"Student Address\"][i],\n",
    "    \"email\": data[\"Student Email\"][i],\n",
    "    \"code\":None ,\n",
    "    \"home_photo\": data[\"Home Phone\"][i],\n",
    "    \"cell_phone\": data[\"Student Cell Phone\"][i],\n",
    "    \"birth\": None,\n",
    "    \"username\": \"\",\n",
    "    \"password\": \"\",\n",
    "    \"home_pickup\": None,\n",
    "    \"Gender\": data[\"Gender\"][i],\n",
    "    \"preferred_pronoun\": None,\n",
    "    \"dl_permit\": data[\"Permit #\"][i],\n",
    "    \"dl_given_date\": data[\"Permit Issued Date\"][i],\n",
    "    \"dl_expire_date\": None,\n",
    "    \"note\": data[\"Student Notes\"][i],\n",
    "    \"medical_condition\": \"\",\n",
    "    \"parent_name\": data[\"Parent Name\"][i],\n",
    "    \"parent_email\": data[\"Parent Email\"][i],\n",
    "    \"parent_phone\": data[\"Parent Cell Phone\"][i],\n",
    "    \"parent_2_name\": data[\"Parent Name 2\"][i],\n",
    "    \"parent_2_email\": data[\"Parent Email 2\"][i],\n",
    "    \"parent_2_phone\": data[\"Parent Phone 2\"][i],\n",
    "    \"type\": None,\n",
    "    \"staff\": None,\n",
    "    \"location\": None,\n",
    "    \"high_school\": None\n",
    "}"
   ],
   "metadata": {
    "collapsed": false,
    "ExecuteTime": {
     "start_time": "2024-05-04T15:31:01.792149Z",
     "end_time": "2024-05-04T15:31:01.818283Z"
    }
   }
  },
  {
   "cell_type": "code",
   "execution_count": 15,
   "outputs": [
    {
     "name": "stdout",
     "output_type": "stream",
     "text": [
      "{'id': None, 'status': None, 'first_name': 'Zachary', 'mid_name': nan, 'last_name': 'Miller', 'address': '3 Gilmore Ct, Fairfield, OH, 45014', 'city': None, 'state': '3 Gilmore Ct, Fairfield, OH, 45014', 'zip': '3 Gilmore Ct, Fairfield, OH, 45014', 'email': 'millerzachary605@gmail.com', 'code': None, 'home_photo': nan, 'cell_phone': '(513)394-0137', 'birth': None, 'username': '', 'password': '', 'home_pickup': None, 'Gender': 'Male', 'preferred_pronoun': None, 'dl_permit': 'VN096754', 'dl_given_date': Timestamp('2023-03-22 00:00:00'), 'dl_expire_date': None, 'note': nan, 'medical_condition': '', 'parent_name': nan, 'parent_email': nan, 'parent_phone': nan, 'parent_2_name': nan, 'parent_2_email': nan, 'parent_2_phone': nan, 'type': None, 'staff': None, 'location': None, 'high_school': None}\n"
     ]
    }
   ],
   "source": [
    "print(da)"
   ],
   "metadata": {
    "collapsed": false,
    "ExecuteTime": {
     "start_time": "2024-05-04T15:31:07.249350Z",
     "end_time": "2024-05-04T15:31:07.256972Z"
    }
   }
  },
  {
   "cell_type": "code",
   "execution_count": null,
   "outputs": [],
   "source": [],
   "metadata": {
    "collapsed": false
   }
  }
 ],
 "metadata": {
  "kernelspec": {
   "display_name": "Python 3",
   "language": "python",
   "name": "python3"
  },
  "language_info": {
   "codemirror_mode": {
    "name": "ipython",
    "version": 2
   },
   "file_extension": ".py",
   "mimetype": "text/x-python",
   "name": "python",
   "nbconvert_exporter": "python",
   "pygments_lexer": "ipython2",
   "version": "2.7.6"
  }
 },
 "nbformat": 4,
 "nbformat_minor": 0
}
