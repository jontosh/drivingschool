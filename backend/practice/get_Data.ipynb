{
 "cells": [
  {
   "cell_type": "code",
   "execution_count": 1,
   "metadata": {
    "collapsed": true,
    "ExecuteTime": {
     "start_time": "2024-05-04T14:45:24.534863Z",
     "end_time": "2024-05-04T14:45:25.642697Z"
    }
   },
   "outputs": [],
   "source": [
    "import pandas as pd"
   ]
  },
  {
   "cell_type": "code",
   "execution_count": 4,
   "outputs": [
    {
     "data": {
      "text/plain": "  First Name  Last Name Middle Name Assign To Location Assign to Staff  \\\n0      Aaron  Ruehrwein       Jacob                NaN     Zade,Khalil   \n1      Aaron       Sova         NaN                NaN             NaN   \n2       Abhi      Patel        Amit                NaN     Zade,Khalil   \n3   Adrianah    Hartman         NaN                NaN     Zade,Khalil   \n4      Aiden    Sanders         NaN                NaN     Zade,Khalil   \n\n  Date of Birth  Emergency Phone  Emergency Phone1  Emergency Relationship  \\\n0    2008-05-19              NaN               NaN                     NaN   \n1    2008-06-30              NaN               NaN                     NaN   \n2    2007-11-27              NaN               NaN                     NaN   \n3    2008-03-05              NaN               NaN                     NaN   \n4    2007-11-12              NaN               NaN                     NaN   \n\n   Gender  ...                                           Billing1  \\\n0    Male  ...  Amount paid: $649.99, Payment Method: Cash, Co...   \n1    Male  ...                                                NaN   \n2    Male  ...  Amount paid: $649.99, Payment Method: Cash, Co...   \n3  Female  ...  Amount paid: $649.99, Payment Method: Check/Mo...   \n4    Male  ...  Amount paid: $649.99, Payment Method: CC, Coll...   \n\n                                            Billing2 Billing3 Billing4  \\\n0                                                NaN      NaN      NaN   \n1                                                NaN      NaN      NaN   \n2                                                NaN      NaN      NaN   \n3                                                NaN      NaN      NaN   \n4  Amount paid: $75.00, Payment Method: CC, Colle...      NaN      NaN   \n\n  Billing5  Billing6 Billing7 Billing8 Billing9 Billing10  \n0      NaN       NaN      NaN      NaN      NaN       NaN  \n1      NaN       NaN      NaN      NaN      NaN       NaN  \n2      NaN       NaN      NaN      NaN      NaN       NaN  \n3      NaN       NaN      NaN      NaN      NaN       NaN  \n4      NaN       NaN      NaN      NaN      NaN       NaN  \n\n[5 rows x 77 columns]",
      "text/html": "<div>\n<style scoped>\n    .dataframe tbody tr th:only-of-type {\n        vertical-align: middle;\n    }\n\n    .dataframe tbody tr th {\n        vertical-align: top;\n    }\n\n    .dataframe thead th {\n        text-align: right;\n    }\n</style>\n<table border=\"1\" class=\"dataframe\">\n  <thead>\n    <tr style=\"text-align: right;\">\n      <th></th>\n      <th>First Name</th>\n      <th>Last Name</th>\n      <th>Middle Name</th>\n      <th>Assign To Location</th>\n      <th>Assign to Staff</th>\n      <th>Date of Birth</th>\n      <th>Emergency Phone</th>\n      <th>Emergency Phone1</th>\n      <th>Emergency Relationship</th>\n      <th>Gender</th>\n      <th>...</th>\n      <th>Billing1</th>\n      <th>Billing2</th>\n      <th>Billing3</th>\n      <th>Billing4</th>\n      <th>Billing5</th>\n      <th>Billing6</th>\n      <th>Billing7</th>\n      <th>Billing8</th>\n      <th>Billing9</th>\n      <th>Billing10</th>\n    </tr>\n  </thead>\n  <tbody>\n    <tr>\n      <th>0</th>\n      <td>Aaron</td>\n      <td>Ruehrwein</td>\n      <td>Jacob</td>\n      <td>NaN</td>\n      <td>Zade,Khalil</td>\n      <td>2008-05-19</td>\n      <td>NaN</td>\n      <td>NaN</td>\n      <td>NaN</td>\n      <td>Male</td>\n      <td>...</td>\n      <td>Amount paid: $649.99, Payment Method: Cash, Co...</td>\n      <td>NaN</td>\n      <td>NaN</td>\n      <td>NaN</td>\n      <td>NaN</td>\n      <td>NaN</td>\n      <td>NaN</td>\n      <td>NaN</td>\n      <td>NaN</td>\n      <td>NaN</td>\n    </tr>\n    <tr>\n      <th>1</th>\n      <td>Aaron</td>\n      <td>Sova</td>\n      <td>NaN</td>\n      <td>NaN</td>\n      <td>NaN</td>\n      <td>2008-06-30</td>\n      <td>NaN</td>\n      <td>NaN</td>\n      <td>NaN</td>\n      <td>Male</td>\n      <td>...</td>\n      <td>NaN</td>\n      <td>NaN</td>\n      <td>NaN</td>\n      <td>NaN</td>\n      <td>NaN</td>\n      <td>NaN</td>\n      <td>NaN</td>\n      <td>NaN</td>\n      <td>NaN</td>\n      <td>NaN</td>\n    </tr>\n    <tr>\n      <th>2</th>\n      <td>Abhi</td>\n      <td>Patel</td>\n      <td>Amit</td>\n      <td>NaN</td>\n      <td>Zade,Khalil</td>\n      <td>2007-11-27</td>\n      <td>NaN</td>\n      <td>NaN</td>\n      <td>NaN</td>\n      <td>Male</td>\n      <td>...</td>\n      <td>Amount paid: $649.99, Payment Method: Cash, Co...</td>\n      <td>NaN</td>\n      <td>NaN</td>\n      <td>NaN</td>\n      <td>NaN</td>\n      <td>NaN</td>\n      <td>NaN</td>\n      <td>NaN</td>\n      <td>NaN</td>\n      <td>NaN</td>\n    </tr>\n    <tr>\n      <th>3</th>\n      <td>Adrianah</td>\n      <td>Hartman</td>\n      <td>NaN</td>\n      <td>NaN</td>\n      <td>Zade,Khalil</td>\n      <td>2008-03-05</td>\n      <td>NaN</td>\n      <td>NaN</td>\n      <td>NaN</td>\n      <td>Female</td>\n      <td>...</td>\n      <td>Amount paid: $649.99, Payment Method: Check/Mo...</td>\n      <td>NaN</td>\n      <td>NaN</td>\n      <td>NaN</td>\n      <td>NaN</td>\n      <td>NaN</td>\n      <td>NaN</td>\n      <td>NaN</td>\n      <td>NaN</td>\n      <td>NaN</td>\n    </tr>\n    <tr>\n      <th>4</th>\n      <td>Aiden</td>\n      <td>Sanders</td>\n      <td>NaN</td>\n      <td>NaN</td>\n      <td>Zade,Khalil</td>\n      <td>2007-11-12</td>\n      <td>NaN</td>\n      <td>NaN</td>\n      <td>NaN</td>\n      <td>Male</td>\n      <td>...</td>\n      <td>Amount paid: $649.99, Payment Method: CC, Coll...</td>\n      <td>Amount paid: $75.00, Payment Method: CC, Colle...</td>\n      <td>NaN</td>\n      <td>NaN</td>\n      <td>NaN</td>\n      <td>NaN</td>\n      <td>NaN</td>\n      <td>NaN</td>\n      <td>NaN</td>\n      <td>NaN</td>\n    </tr>\n  </tbody>\n</table>\n<p>5 rows × 77 columns</p>\n</div>"
     },
     "execution_count": 4,
     "metadata": {},
     "output_type": "execute_result"
    }
   ],
   "source": [
    "data = pd.read_excel('StudentList638503123757892814_5351.xlsx')\n",
    "data.head()"
   ],
   "metadata": {
    "collapsed": false,
    "ExecuteTime": {
     "start_time": "2024-05-04T15:14:44.667146Z",
     "end_time": "2024-05-04T15:14:44.808705Z"
    }
   }
  },
  {
   "cell_type": "code",
   "execution_count": 1,
   "outputs": [
    {
     "name": "stdout",
     "output_type": "stream",
     "text": [
      "371b9105-9aeb-4f3d-9537-ebd8c8cf3682\n"
     ]
    }
   ],
   "source": [
    "import  uuid\n",
    "print(uuid.uuid4())"
   ],
   "metadata": {
    "collapsed": false,
    "ExecuteTime": {
     "start_time": "2024-05-16T10:45:27.490876Z",
     "end_time": "2024-05-16T10:45:27.504115Z"
    }
   }
  },
  {
   "cell_type": "code",
   "execution_count": 3,
   "outputs": [],
   "source": [
    "student = [\"student.id\",\"student.status\",\"student.first_name\",\"student.mid_name\",\"student.last_name\",\"student.address\",\"student.city\",\"student.state\",\"student.zip\",\"student.email\",\"student.code\",\"student.home_photo\",\"student.cell_phone\",\"student.birth\",\"student.username\",\"student.password\",\"student.type\",\"student.home_pickup\",\"student.gender\",\"student.preferred_pronoun\",\"student.dl_permit\",\"student.dl_given_date\",\"student.dl_expire_date\",\"student.note\",\"student.medical_condition\",\"student.parent_name\",\"student.parent_email\",\"student.parent_phone\",\"student.parent_2_name\",\"student.parent_2_email\",\"student.parent_2_phone\",\"student.high_school.id\",\"student.high_school.name\",\"student.high_school.code\",\"student.high_school.email\",\"student.high_school.note\",\"student.high_school.zipcode\",\"student.high_school.city\",\"student.high_school.state\",\"student.high_school.status\",\"student.high_school.address\",\"student.staff.id\",\"student.staff.location.id\",\"student.staff.location.pick_up\",\"student.staff.location.drop_off\",\"student.staff.location.name\",\"student.staff.location.code\",\"student.staff.location.status\",\"student.staff.location.type\",\"student.staff.location.address\",\"student.staff.location.city\",\"student.staff.location.zip\",\"student.staff.location.location_manager\",\"student.staff.location.county\",\"student.staff.location.phone_main\",\"student.staff.location.fax\",\"student.staff.location.other\",\"student.staff.location.location_note\",\"student.staff.location.has_color\",\"student.staff.location.color\",\"student.staff.location.has_distance_based_scheduling\",\"student.staff.location.distance_based_scheduling\",\"student.staff.location.provider_location_id\",\"student.staff.location.send_drive_available_email_on_appointment_cancellation\",\"student.staff.vehicle.id\",\"student.staff.vehicle.location.id\",\"student.staff.vehicle.location.pick_up\",\"student.staff.vehicle.location.drop_off\",\"student.staff.vehicle.location.name\",\"student.staff.vehicle.location.code\",\"student.staff.vehicle.location.status\",\"student.staff.vehicle.location.type\",\"student.staff.vehicle.location.address\",\"student.staff.vehicle.location.city\",\"student.staff.vehicle.location.zip\",\"student.staff.vehicle.location.location_manager\",\"student.staff.vehicle.location.county\",\"student.staff.vehicle.location.phone_main\",\"student.staff.vehicle.location.fax\",\"student.staff.vehicle.location.other\",\"student.staff.vehicle.location.location_note\",\"student.staff.vehicle.location.has_color\",\"student.staff.vehicle.location.color\",\"student.staff.vehicle.location.has_distance_based_scheduling\",\"student.staff.vehicle.location.distance_based_scheduling\",\"student.staff.vehicle.location.provider_location_id\",\"student.staff.vehicle.location.send_drive_available_email_on_appointment_cancellation\",\"student.staff.vehicle.name\",\"student.staff.vehicle.status\",\"student.staff.vehicle.type\",\"student.staff.vehicle.number\",\"student.staff.vehicle.make\",\"student.staff.vehicle.plate\",\"student.staff.vehicle.has_color\",\"student.staff.vehicle.color\",\"student.staff.vehicle.note\",\"student.staff.vehicle.asr_esn_id\",\"student.staff.vehicle.odometer\",\"student.staff.vehicle.initial_mileage\",\"student.staff.vehicle.image\",\"student.staff.working_hours\",\"student.staff.status\",\"student.staff.first_name\",\"student.staff.mid_name\",\"student.staff.last_name\",\"student.staff.address\",\"student.staff.city\",\"student.staff.state\",\"student.staff.zip\",\"student.staff.email\",\"student.staff.code\",\"student.staff.home_photo\",\"student.staff.cell_phone\",\"student.staff.birth\",\"student.staff.username\",\"student.staff.password\",\"student.staff.staff_type\",\"student.staff.emergency_name\",\"student.staff.emergency_relation\",\"student.staff.emergency_phone\",\"student.staff.permit_number\",\"student.staff.car_permit_data\",\"student.staff.car_permit_expire\",\"student.staff.color\",\"student.staff.zoom\",\"student.staff.picture\",\"student.staff.type\",\"student.location.id\",\"student.location.pick_up\",\"student.location.drop_off\",\"student.location.name\",\"student.location.code\",\"student.location.status\",\"student.location.type\",\"student.location.address\",\"student.location.city\",\"student.location.zip\",\"student.location.location_manager\",\"student.location.county\",\"student.location.phone_main\",\"student.location.fax\",\"student.location.other\",\"student.location.location_note\",\"student.location.has_color\",\"student.location.color\",\"student.location.has_distance_based_scheduling\",\"student.location.distance_based_scheduling\",\"student.location.provider_location_id\",\"student.location.send_drive_available_email_on_appointment_cancellation\"]"
   ],
   "metadata": {
    "collapsed": false,
    "ExecuteTime": {
     "start_time": "2024-05-16T13:59:37.230948Z",
     "end_time": "2024-05-16T13:59:37.234704Z"
    }
   }
  },
  {
   "cell_type": "code",
   "execution_count": 4,
   "outputs": [],
   "source": [
    "text = 'Hello {{student.first_name}}  {{student.last_name}} {{student.mid_name}}' \\\n",
    "       'Your account is now {{student.status}}'"
   ],
   "metadata": {
    "collapsed": false,
    "ExecuteTime": {
     "start_time": "2024-05-16T14:01:10.122567Z",
     "end_time": "2024-05-16T14:01:10.128718Z"
    }
   }
  },
  {
   "cell_type": "code",
   "execution_count": 6,
   "outputs": [],
   "source": [
    "data = {\n",
    "  \"id\": \"094b1a3c-88b4-464d-8ea6-2ef273ffcde3\",\n",
    "  \"status\": \"Active\",\n",
    "  \"first_name\": \"Khalil\",\n",
    "  \"mid_name\": None,\n",
    "  \"last_name\": \"Zade\",\n",
    "  \"address\": \"somewhere\",\n",
    "  \"city\": None,\n",
    "  \"state\": None,\n",
    "  \"zip\": None,\n",
    "  \"email\": \"aliyuldashev880@inha.edu\",\n",
    "  \"code\": None,\n",
    "  \"home_photo\": None,\n",
    "  \"cell_phone\": \"01098802050\",\n",
    "  \"birth\": \"2024-05-15\",\n",
    "  \"username\": \"ali\",\n",
    "  \"password\": None,\n",
    "  \"type\": 1,\n",
    "  \"home_pickup\": \"\",\n",
    "  \"gender\": \"Male\",\n",
    "  \"preferred_pronoun\": \"She\",\n",
    "  \"dl_permit\": \"\",\n",
    "  \"dl_given_date\": \"2024-05-15\",\n",
    "  \"dl_expire_date\": \"2024-05-15\",\n",
    "  \"note\": \"\",\n",
    "  \"medical_condition\": \"\",\n",
    "  \"parent_name\": \"Vali\",\n",
    "  \"parent_email\": None,\n",
    "  \"parent_phone\": None,\n",
    "  \"parent_2_name\": \"Guli\",\n",
    "  \"parent_2_email\": None,\n",
    "  \"parent_2_phone\": None,\n",
    "  \"high_school\": {\n",
    "    \"id\": 1,\n",
    "    \"name\": \"64 Chust\",\n",
    "    \"code\": 64,\n",
    "    \"email\": \"willias071721@gmail.com\",\n",
    "    \"note\": \"\",\n",
    "    \"zipcode\": None,\n",
    "    \"city\": None,\n",
    "    \"state\": None,\n",
    "    \"status\": \"ACTIVE\",\n",
    "    \"address\": 1\n",
    "  },\n",
    "  \"staff\": {\n",
    "    \"id\": \"0f50c8af-b9e5-40a5-8607-8c8edd627174\",\n",
    "    \"location\": {\n",
    "      \"id\": 1,\n",
    "      \"pick_up\": None,\n",
    "      \"drop_off\": None,\n",
    "      \"name\": \"Mason\",\n",
    "      \"code\": \"001\",\n",
    "      \"status\": \"ACTIVE\",\n",
    "      \"type\": \"Main office only\",\n",
    "      \"address\": \"mason\",\n",
    "      \"city\": \"Mason\",\n",
    "      \"zip\": \"45040\",\n",
    "      \"location_manager\": \"\",\n",
    "      \"county\": \"\",\n",
    "      \"phone_main\": \"513 800-5881\",\n",
    "      \"fax\": \"\",\n",
    "      \"other\": \"\",\n",
    "      \"location_note\": \"\",\n",
    "      \"has_color\": True,\n",
    "      \"color\": \"#FF0000\",\n",
    "      \"has_distance_based_scheduling\": False,\n",
    "      \"distance_based_scheduling\": 15,\n",
    "      \"provider_location_id\": None,\n",
    "      \"send_drive_available_email_on_appointment_cancellation\": False\n",
    "    },\n",
    "    \"vehicle\": {\n",
    "      \"id\": 2,\n",
    "      \"location\": {\n",
    "        \"id\": 1,\n",
    "        \"pick_up\": None,\n",
    "        \"drop_off\": None,\n",
    "        \"name\": \"Mason\",\n",
    "        \"code\": \"001\",\n",
    "        \"status\": \"ACTIVE\",\n",
    "        \"type\": \"Main office only\",\n",
    "        \"address\": \"mason\",\n",
    "        \"city\": \"Mason\",\n",
    "        \"zip\": \"45040\",\n",
    "        \"location_manager\": \"\",\n",
    "        \"county\": \"\",\n",
    "        \"phone_main\": \"513 800-5881\",\n",
    "        \"fax\": \"\",\n",
    "        \"other\": \"\",\n",
    "        \"location_note\": \"\",\n",
    "        \"has_color\": True,\n",
    "        \"color\": \"#FF0000\",\n",
    "        \"has_distance_based_scheduling\": False,\n",
    "        \"distance_based_scheduling\": 15,\n",
    "        \"provider_location_id\": None,\n",
    "        \"send_drive_available_email_on_appointment_cancellation\": False\n",
    "      },\n",
    "      \"name\": \"BMW 100\",\n",
    "      \"status\": \"ACTIVE\",\n",
    "      \"type\": \"CAR\",\n",
    "      \"number\": \"001\",\n",
    "      \"make\": \"BMW\",\n",
    "      \"plate\": \"AB2310OH\",\n",
    "      \"has_color\": True,\n",
    "      \"color\": \"#FF0000\",\n",
    "      \"note\": \"\",\n",
    "      \"asr_esn_id\": \"Asr esn id\",\n",
    "      \"odometer\": None,\n",
    "      \"initial_mileage\": None,\n",
    "      \"image\": None\n",
    "    },\n",
    "    \"working_hours\": [],\n",
    "    \"status\": \"Active\",\n",
    "    \"first_name\": \"Tim\",\n",
    "    \"mid_name\": None,\n",
    "    \"last_name\": \"Mark\",\n",
    "    \"address\": \"Wherever\",\n",
    "    \"city\": None,\n",
    "    \"state\": None,\n",
    "    \"zip\": None,\n",
    "    \"email\": \"willias071721@gmail.com\",\n",
    "    \"code\": None,\n",
    "    \"home_photo\": None,\n",
    "    \"cell_phone\": \"01098802050\",\n",
    "    \"birth\": \"2024-05-15\",\n",
    "    \"username\": \"timmarker\",\n",
    "    \"password\": None,\n",
    "    \"staff_type\": \"Instructor\",\n",
    "    \"emergency_name\": None,\n",
    "    \"emergency_relation\": None,\n",
    "    \"emergency_phone\": None,\n",
    "    \"permit_number\": None,\n",
    "    \"car_permit_data\": \"2024-05-15\",\n",
    "    \"car_permit_expire\": \"2024-05-15\",\n",
    "    \"color\": \"#64FF00\",\n",
    "    \"zoom\": \"\",\n",
    "    \"picture\": None,\n",
    "    \"type\": 2\n",
    "  },\n",
    "  \"location\": {\n",
    "    \"id\": 1,\n",
    "    \"pick_up\": None,\n",
    "    \"drop_off\": None,\n",
    "    \"name\": \"Mason\",\n",
    "    \"code\": \"001\",\n",
    "    \"status\": \"ACTIVE\",\n",
    "    \"type\": \"Main office only\",\n",
    "    \"address\": \"mason\",\n",
    "    \"city\": \"Mason\",\n",
    "    \"zip\": \"45040\",\n",
    "    \"location_manager\": \"\",\n",
    "    \"county\": \"\",\n",
    "    \"phone_main\": \"513 800-5881\",\n",
    "    \"fax\": \"\",\n",
    "    \"other\": \"\",\n",
    "    \"location_note\": \"\",\n",
    "    \"has_color\": True,\n",
    "    \"color\": \"#FF0000\",\n",
    "    \"has_distance_based_scheduling\": False,\n",
    "    \"distance_based_scheduling\": 15,\n",
    "    \"provider_location_id\": None,\n",
    "    \"send_drive_available_email_on_appointment_cancellation\": False\n",
    "  }\n",
    "}"
   ],
   "metadata": {
    "collapsed": false,
    "ExecuteTime": {
     "start_time": "2024-05-16T14:11:54.404555Z",
     "end_time": "2024-05-16T14:11:54.424711Z"
    }
   }
  },
  {
   "cell_type": "code",
   "execution_count": 25,
   "outputs": [],
   "source": [
    "def get_nested_value(data, key_path):\n",
    "    keys = key_path.split('.')\n",
    "    value = data\n",
    "    for key in keys[1:]:\n",
    "        value = value.get(key)\n",
    "        if value is None:\n",
    "            return ''\n",
    "    return value"
   ],
   "metadata": {
    "collapsed": false,
    "ExecuteTime": {
     "start_time": "2024-05-16T14:23:13.177909Z",
     "end_time": "2024-05-16T14:23:13.193170Z"
    }
   }
  },
  {
   "cell_type": "code",
   "execution_count": 5,
   "outputs": [],
   "source": [
    "import  re"
   ],
   "metadata": {
    "collapsed": false,
    "ExecuteTime": {
     "start_time": "2024-05-16T14:07:03.550309Z",
     "end_time": "2024-05-16T14:07:03.561205Z"
    }
   }
  },
  {
   "cell_type": "code",
   "execution_count": 26,
   "outputs": [],
   "source": [
    "\n",
    "def replace_placeholders(text, data,id):\n",
    "    pattern = r'{{(.*?)}}'\n",
    "    def replacer(match):\n",
    "        key = match.group(1).strip()\n",
    "        return str(get_nested_value(data, key))\n",
    "\n",
    "    return re.sub(pattern, replacer, text)"
   ],
   "metadata": {
    "collapsed": false,
    "ExecuteTime": {
     "start_time": "2024-05-16T14:23:17.648689Z",
     "end_time": "2024-05-16T14:23:17.659828Z"
    }
   }
  },
  {
   "cell_type": "code",
   "execution_count": 27,
   "outputs": [
    {
     "name": "stdout",
     "output_type": "stream",
     "text": [
      "Hello Khalil  Zade \n",
      "Your account is now Active\n"
     ]
    }
   ],
   "source": [
    "print(replace_placeholders(text, data, \"1\"))"
   ],
   "metadata": {
    "collapsed": false,
    "ExecuteTime": {
     "start_time": "2024-05-16T14:23:18.407379Z",
     "end_time": "2024-05-16T14:23:18.412705Z"
    }
   }
  },
  {
   "cell_type": "code",
   "execution_count": 14,
   "outputs": [],
   "source": [
    "for i in range(0,len(data)):\n",
    "    da = {\n",
    "    \"id\": None,\n",
    "    \"status\": None,\n",
    "    \"first_name\": data[\"First Name\"][i],\n",
    "    \"mid_name\": data[\"Middle Name\"][i],\n",
    "    \"last_name\": data[\"Last Name\"][i],\n",
    "    \"address\": data[\"Student Address\"][i],\n",
    "    \"city\": None,\n",
    "    \"state\": data[\"Student Address\"][i],\n",
    "    \"zip\": data[\"Student Address\"][i],\n",
    "    \"email\": data[\"Student Email\"][i],\n",
    "    \"code\":None ,\n",
    "    \"home_photo\": data[\"Home Phone\"][i],\n",
    "    \"cell_phone\": data[\"Student Cell Phone\"][i],\n",
    "    \"birth\": None,\n",
    "    \"username\": \"\",\n",
    "    \"password\": \"\",\n",
    "    \"home_pickup\": None,\n",
    "    \"Gender\": data[\"Gender\"][i],\n",
    "    \"preferred_pronoun\": None,\n",
    "    \"dl_permit\": data[\"Permit #\"][i],\n",
    "    \"dl_given_date\": data[\"Permit Issued Date\"][i],\n",
    "    \"dl_expire_date\": None,\n",
    "    \"note\": data[\"Student Notes\"][i],\n",
    "    \"medical_condition\": \"\",\n",
    "    \"parent_name\": data[\"Parent Name\"][i],\n",
    "    \"parent_email\": data[\"Parent Email\"][i],\n",
    "    \"parent_phone\": data[\"Parent Cell Phone\"][i],\n",
    "    \"parent_2_name\": data[\"Parent Name 2\"][i],\n",
    "    \"parent_2_email\": data[\"Parent Email 2\"][i],\n",
    "    \"parent_2_phone\": data[\"Parent Phone 2\"][i],\n",
    "    \"type\": None,\n",
    "    \"staff\": None,\n",
    "    \"location\": None,\n",
    "    \"high_school\": None\n",
    "}"
   ],
   "metadata": {
    "collapsed": false,
    "ExecuteTime": {
     "start_time": "2024-05-04T15:31:01.792149Z",
     "end_time": "2024-05-04T15:31:01.818283Z"
    }
   }
  },
  {
   "cell_type": "code",
   "execution_count": 15,
   "outputs": [
    {
     "name": "stdout",
     "output_type": "stream",
     "text": [
      "{'id': None, 'status': None, 'first_name': 'Zachary', 'mid_name': nan, 'last_name': 'Miller', 'address': '3 Gilmore Ct, Fairfield, OH, 45014', 'city': None, 'state': '3 Gilmore Ct, Fairfield, OH, 45014', 'zip': '3 Gilmore Ct, Fairfield, OH, 45014', 'email': 'millerzachary605@gmail.com', 'code': None, 'home_photo': nan, 'cell_phone': '(513)394-0137', 'birth': None, 'username': '', 'password': '', 'home_pickup': None, 'Gender': 'Male', 'preferred_pronoun': None, 'dl_permit': 'VN096754', 'dl_given_date': Timestamp('2023-03-22 00:00:00'), 'dl_expire_date': None, 'note': nan, 'medical_condition': '', 'parent_name': nan, 'parent_email': nan, 'parent_phone': nan, 'parent_2_name': nan, 'parent_2_email': nan, 'parent_2_phone': nan, 'type': None, 'staff': None, 'location': None, 'high_school': None}\n"
     ]
    }
   ],
   "source": [
    "print(da)"
   ],
   "metadata": {
    "collapsed": false,
    "ExecuteTime": {
     "start_time": "2024-05-04T15:31:07.249350Z",
     "end_time": "2024-05-04T15:31:07.256972Z"
    }
   }
  },
  {
   "cell_type": "code",
   "execution_count": null,
   "outputs": [],
   "source": [],
   "metadata": {
    "collapsed": false
   }
  }
 ],
 "metadata": {
  "kernelspec": {
   "display_name": "Python 3",
   "language": "python",
   "name": "python3"
  },
  "language_info": {
   "codemirror_mode": {
    "name": "ipython",
    "version": 2
   },
   "file_extension": ".py",
   "mimetype": "text/x-python",
   "name": "python",
   "nbconvert_exporter": "python",
   "pygments_lexer": "ipython2",
   "version": "2.7.6"
  }
 },
 "nbformat": 4,
 "nbformat_minor": 0
}
